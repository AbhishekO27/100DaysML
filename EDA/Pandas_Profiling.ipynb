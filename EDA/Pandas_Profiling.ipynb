{
 "cells": [
  {
   "cell_type": "code",
   "execution_count": 1,
   "id": "b8aca5a6-5953-4a25-9d99-0b0aad0b7be2",
   "metadata": {},
   "outputs": [],
   "source": [
    "import pandas as pd\n"
   ]
  },
  {
   "cell_type": "code",
   "execution_count": 2,
   "id": "a277650b-27be-43c4-bae5-39e642bdcfbe",
   "metadata": {},
   "outputs": [],
   "source": [
    "df= pd.read_csv('tested.csv')"
   ]
  },
  {
   "cell_type": "code",
   "execution_count": 3,
   "id": "895363cf-0f9c-4c85-93a3-56bfad19b950",
   "metadata": {},
   "outputs": [
    {
     "data": {
      "text/html": [
       "<div>\n",
       "<style scoped>\n",
       "    .dataframe tbody tr th:only-of-type {\n",
       "        vertical-align: middle;\n",
       "    }\n",
       "\n",
       "    .dataframe tbody tr th {\n",
       "        vertical-align: top;\n",
       "    }\n",
       "\n",
       "    .dataframe thead th {\n",
       "        text-align: right;\n",
       "    }\n",
       "</style>\n",
       "<table border=\"1\" class=\"dataframe\">\n",
       "  <thead>\n",
       "    <tr style=\"text-align: right;\">\n",
       "      <th></th>\n",
       "      <th>PassengerId</th>\n",
       "      <th>Survived</th>\n",
       "      <th>Pclass</th>\n",
       "      <th>Name</th>\n",
       "      <th>Sex</th>\n",
       "      <th>Age</th>\n",
       "      <th>SibSp</th>\n",
       "      <th>Parch</th>\n",
       "      <th>Ticket</th>\n",
       "      <th>Fare</th>\n",
       "      <th>Cabin</th>\n",
       "      <th>Embarked</th>\n",
       "    </tr>\n",
       "  </thead>\n",
       "  <tbody>\n",
       "    <tr>\n",
       "      <th>0</th>\n",
       "      <td>892</td>\n",
       "      <td>0</td>\n",
       "      <td>3</td>\n",
       "      <td>Kelly, Mr. James</td>\n",
       "      <td>male</td>\n",
       "      <td>34.5</td>\n",
       "      <td>0</td>\n",
       "      <td>0</td>\n",
       "      <td>330911</td>\n",
       "      <td>7.8292</td>\n",
       "      <td>NaN</td>\n",
       "      <td>Q</td>\n",
       "    </tr>\n",
       "    <tr>\n",
       "      <th>1</th>\n",
       "      <td>893</td>\n",
       "      <td>1</td>\n",
       "      <td>3</td>\n",
       "      <td>Wilkes, Mrs. James (Ellen Needs)</td>\n",
       "      <td>female</td>\n",
       "      <td>47.0</td>\n",
       "      <td>1</td>\n",
       "      <td>0</td>\n",
       "      <td>363272</td>\n",
       "      <td>7.0000</td>\n",
       "      <td>NaN</td>\n",
       "      <td>S</td>\n",
       "    </tr>\n",
       "    <tr>\n",
       "      <th>2</th>\n",
       "      <td>894</td>\n",
       "      <td>0</td>\n",
       "      <td>2</td>\n",
       "      <td>Myles, Mr. Thomas Francis</td>\n",
       "      <td>male</td>\n",
       "      <td>62.0</td>\n",
       "      <td>0</td>\n",
       "      <td>0</td>\n",
       "      <td>240276</td>\n",
       "      <td>9.6875</td>\n",
       "      <td>NaN</td>\n",
       "      <td>Q</td>\n",
       "    </tr>\n",
       "    <tr>\n",
       "      <th>3</th>\n",
       "      <td>895</td>\n",
       "      <td>0</td>\n",
       "      <td>3</td>\n",
       "      <td>Wirz, Mr. Albert</td>\n",
       "      <td>male</td>\n",
       "      <td>27.0</td>\n",
       "      <td>0</td>\n",
       "      <td>0</td>\n",
       "      <td>315154</td>\n",
       "      <td>8.6625</td>\n",
       "      <td>NaN</td>\n",
       "      <td>S</td>\n",
       "    </tr>\n",
       "    <tr>\n",
       "      <th>4</th>\n",
       "      <td>896</td>\n",
       "      <td>1</td>\n",
       "      <td>3</td>\n",
       "      <td>Hirvonen, Mrs. Alexander (Helga E Lindqvist)</td>\n",
       "      <td>female</td>\n",
       "      <td>22.0</td>\n",
       "      <td>1</td>\n",
       "      <td>1</td>\n",
       "      <td>3101298</td>\n",
       "      <td>12.2875</td>\n",
       "      <td>NaN</td>\n",
       "      <td>S</td>\n",
       "    </tr>\n",
       "  </tbody>\n",
       "</table>\n",
       "</div>"
      ],
      "text/plain": [
       "   PassengerId  Survived  Pclass  \\\n",
       "0          892         0       3   \n",
       "1          893         1       3   \n",
       "2          894         0       2   \n",
       "3          895         0       3   \n",
       "4          896         1       3   \n",
       "\n",
       "                                           Name     Sex   Age  SibSp  Parch  \\\n",
       "0                              Kelly, Mr. James    male  34.5      0      0   \n",
       "1              Wilkes, Mrs. James (Ellen Needs)  female  47.0      1      0   \n",
       "2                     Myles, Mr. Thomas Francis    male  62.0      0      0   \n",
       "3                              Wirz, Mr. Albert    male  27.0      0      0   \n",
       "4  Hirvonen, Mrs. Alexander (Helga E Lindqvist)  female  22.0      1      1   \n",
       "\n",
       "    Ticket     Fare Cabin Embarked  \n",
       "0   330911   7.8292   NaN        Q  \n",
       "1   363272   7.0000   NaN        S  \n",
       "2   240276   9.6875   NaN        Q  \n",
       "3   315154   8.6625   NaN        S  \n",
       "4  3101298  12.2875   NaN        S  "
      ]
     },
     "execution_count": 3,
     "metadata": {},
     "output_type": "execute_result"
    }
   ],
   "source": [
    "df.head()"
   ]
  },
  {
   "cell_type": "code",
   "execution_count": 4,
   "id": "a61a91e0-0632-4dab-a83f-da4e0f5febff",
   "metadata": {},
   "outputs": [
    {
     "name": "stdout",
     "output_type": "stream",
     "text": [
      "Requirement already satisfied: pandas-profiling in c:\\users\\abhis\\anaconda3\\lib\\site-packages (3.2.0)\n",
      "Requirement already satisfied: joblib~=1.1.0 in c:\\users\\abhis\\anaconda3\\lib\\site-packages (from pandas-profiling) (1.1.1)\n",
      "Requirement already satisfied: scipy>=1.4.1 in c:\\users\\abhis\\appdata\\roaming\\python\\python312\\site-packages (from pandas-profiling) (1.14.1)\n",
      "Requirement already satisfied: pandas!=1.0.0,!=1.0.1,!=1.0.2,!=1.1.0,>=0.25.3 in c:\\users\\abhis\\appdata\\roaming\\python\\python312\\site-packages (from pandas-profiling) (2.2.3)\n",
      "Requirement already satisfied: matplotlib>=3.2.0 in c:\\users\\abhis\\appdata\\roaming\\python\\python312\\site-packages (from pandas-profiling) (3.9.2)\n",
      "Requirement already satisfied: pydantic>=1.8.1 in c:\\users\\abhis\\appdata\\roaming\\python\\python312\\site-packages (from pandas-profiling) (2.10.1)\n",
      "Requirement already satisfied: PyYAML>=5.0.0 in c:\\users\\abhis\\appdata\\roaming\\python\\python312\\site-packages (from pandas-profiling) (6.0.2)\n",
      "Requirement already satisfied: jinja2>=2.11.1 in c:\\users\\abhis\\appdata\\roaming\\python\\python312\\site-packages (from pandas-profiling) (3.1.4)\n",
      "Requirement already satisfied: markupsafe~=2.1.1 in c:\\users\\abhis\\anaconda3\\lib\\site-packages (from pandas-profiling) (2.1.3)\n",
      "Requirement already satisfied: visions==0.7.4 in c:\\users\\abhis\\anaconda3\\lib\\site-packages (from visions[type_image_path]==0.7.4->pandas-profiling) (0.7.4)\n",
      "Requirement already satisfied: numpy>=1.16.0 in c:\\users\\abhis\\appdata\\roaming\\python\\python312\\site-packages (from pandas-profiling) (1.26.4)\n",
      "Requirement already satisfied: htmlmin>=0.1.12 in c:\\users\\abhis\\anaconda3\\lib\\site-packages (from pandas-profiling) (0.1.12)\n",
      "Requirement already satisfied: missingno>=0.4.2 in c:\\users\\abhis\\anaconda3\\lib\\site-packages (from pandas-profiling) (0.5.2)\n",
      "Requirement already satisfied: phik>=0.11.1 in c:\\users\\abhis\\anaconda3\\lib\\site-packages (from pandas-profiling) (0.12.4)\n",
      "Requirement already satisfied: tangled-up-in-unicode==0.2.0 in c:\\users\\abhis\\anaconda3\\lib\\site-packages (from pandas-profiling) (0.2.0)\n",
      "Requirement already satisfied: requests>=2.24.0 in c:\\users\\abhis\\appdata\\roaming\\python\\python312\\site-packages (from pandas-profiling) (2.31.0)\n",
      "Requirement already satisfied: tqdm>=4.48.2 in c:\\users\\abhis\\appdata\\roaming\\python\\python312\\site-packages (from pandas-profiling) (4.67.1)\n",
      "Requirement already satisfied: seaborn>=0.10.1 in c:\\users\\abhis\\anaconda3\\lib\\site-packages (from pandas-profiling) (0.13.2)\n",
      "Requirement already satisfied: multimethod>=1.4 in c:\\users\\abhis\\anaconda3\\lib\\site-packages (from pandas-profiling) (2.0)\n",
      "Requirement already satisfied: attrs>=19.3.0 in c:\\users\\abhis\\appdata\\roaming\\python\\python312\\site-packages (from visions==0.7.4->visions[type_image_path]==0.7.4->pandas-profiling) (24.2.0)\n",
      "Requirement already satisfied: networkx>=2.4 in c:\\users\\abhis\\anaconda3\\lib\\site-packages (from visions==0.7.4->visions[type_image_path]==0.7.4->pandas-profiling) (3.3)\n",
      "Requirement already satisfied: imagehash in c:\\users\\abhis\\anaconda3\\lib\\site-packages (from visions[type_image_path]==0.7.4->pandas-profiling) (4.3.2)\n",
      "Requirement already satisfied: Pillow in c:\\users\\abhis\\appdata\\roaming\\python\\python312\\site-packages (from visions[type_image_path]==0.7.4->pandas-profiling) (11.0.0)\n",
      "Requirement already satisfied: contourpy>=1.0.1 in c:\\users\\abhis\\appdata\\roaming\\python\\python312\\site-packages (from matplotlib>=3.2.0->pandas-profiling) (1.3.0)\n",
      "Requirement already satisfied: cycler>=0.10 in c:\\users\\abhis\\appdata\\roaming\\python\\python312\\site-packages (from matplotlib>=3.2.0->pandas-profiling) (0.12.1)\n",
      "Requirement already satisfied: fonttools>=4.22.0 in c:\\users\\abhis\\appdata\\roaming\\python\\python312\\site-packages (from matplotlib>=3.2.0->pandas-profiling) (4.54.1)\n",
      "Requirement already satisfied: kiwisolver>=1.3.1 in c:\\users\\abhis\\appdata\\roaming\\python\\python312\\site-packages (from matplotlib>=3.2.0->pandas-profiling) (1.4.7)\n",
      "Requirement already satisfied: packaging>=20.0 in c:\\users\\abhis\\appdata\\roaming\\python\\python312\\site-packages (from matplotlib>=3.2.0->pandas-profiling) (24.1)\n",
      "Requirement already satisfied: pyparsing>=2.3.1 in c:\\users\\abhis\\appdata\\roaming\\python\\python312\\site-packages (from matplotlib>=3.2.0->pandas-profiling) (3.2.0)\n",
      "Requirement already satisfied: python-dateutil>=2.7 in c:\\users\\abhis\\appdata\\roaming\\python\\python312\\site-packages (from matplotlib>=3.2.0->pandas-profiling) (2.9.0.post0)\n",
      "Requirement already satisfied: pytz>=2020.1 in c:\\users\\abhis\\appdata\\roaming\\python\\python312\\site-packages (from pandas!=1.0.0,!=1.0.1,!=1.0.2,!=1.1.0,>=0.25.3->pandas-profiling) (2024.2)\n",
      "Requirement already satisfied: tzdata>=2022.7 in c:\\users\\abhis\\appdata\\roaming\\python\\python312\\site-packages (from pandas!=1.0.0,!=1.0.1,!=1.0.2,!=1.1.0,>=0.25.3->pandas-profiling) (2024.2)\n",
      "Requirement already satisfied: annotated-types>=0.6.0 in c:\\users\\abhis\\appdata\\roaming\\python\\python312\\site-packages (from pydantic>=1.8.1->pandas-profiling) (0.7.0)\n",
      "Requirement already satisfied: pydantic-core==2.27.1 in c:\\users\\abhis\\appdata\\roaming\\python\\python312\\site-packages (from pydantic>=1.8.1->pandas-profiling) (2.27.1)\n",
      "Requirement already satisfied: typing-extensions>=4.12.2 in c:\\users\\abhis\\appdata\\roaming\\python\\python312\\site-packages (from pydantic>=1.8.1->pandas-profiling) (4.12.2)\n",
      "Requirement already satisfied: six>=1.5 in c:\\users\\abhis\\appdata\\roaming\\python\\python312\\site-packages (from python-dateutil>=2.7->matplotlib>=3.2.0->pandas-profiling) (1.16.0)\n",
      "Requirement already satisfied: charset-normalizer<4,>=2 in c:\\users\\abhis\\appdata\\roaming\\python\\python312\\site-packages (from requests>=2.24.0->pandas-profiling) (3.3.2)\n",
      "Requirement already satisfied: idna<4,>=2.5 in c:\\users\\abhis\\appdata\\roaming\\python\\python312\\site-packages (from requests>=2.24.0->pandas-profiling) (3.7)\n",
      "Requirement already satisfied: urllib3<3,>=1.21.1 in c:\\users\\abhis\\appdata\\roaming\\python\\python312\\site-packages (from requests>=2.24.0->pandas-profiling) (2.2.1)\n",
      "Requirement already satisfied: certifi>=2017.4.17 in c:\\users\\abhis\\appdata\\roaming\\python\\python312\\site-packages (from requests>=2.24.0->pandas-profiling) (2024.2.2)\n",
      "Requirement already satisfied: colorama in c:\\users\\abhis\\appdata\\roaming\\python\\python312\\site-packages (from tqdm>=4.48.2->pandas-profiling) (0.4.6)\n",
      "Requirement already satisfied: PyWavelets in c:\\users\\abhis\\anaconda3\\lib\\site-packages (from imagehash->visions[type_image_path]==0.7.4->pandas-profiling) (1.7.0)\n"
     ]
    }
   ],
   "source": [
    "!pip install pandas-profiling\n"
   ]
  },
  {
   "cell_type": "code",
   "execution_count": 8,
   "id": "3e319b9b-e3ec-4469-a0c1-bde047e150a0",
   "metadata": {},
   "outputs": [
    {
     "name": "stdout",
     "output_type": "stream",
     "text": [
      "Collecting ydata-profiling\n",
      "  Downloading ydata_profiling-4.16.1-py2.py3-none-any.whl.metadata (22 kB)\n",
      "Requirement already satisfied: scipy<1.16,>=1.4.1 in c:\\users\\abhis\\appdata\\roaming\\python\\python312\\site-packages (from ydata-profiling) (1.14.1)\n",
      "Requirement already satisfied: pandas!=1.4.0,<3.0,>1.1 in c:\\users\\abhis\\appdata\\roaming\\python\\python312\\site-packages (from ydata-profiling) (2.2.3)\n",
      "Requirement already satisfied: matplotlib<=3.10,>=3.5 in c:\\users\\abhis\\appdata\\roaming\\python\\python312\\site-packages (from ydata-profiling) (3.9.2)\n",
      "Requirement already satisfied: pydantic>=2 in c:\\users\\abhis\\appdata\\roaming\\python\\python312\\site-packages (from ydata-profiling) (2.10.1)\n",
      "Requirement already satisfied: PyYAML<6.1,>=5.0.0 in c:\\users\\abhis\\appdata\\roaming\\python\\python312\\site-packages (from ydata-profiling) (6.0.2)\n",
      "Requirement already satisfied: jinja2<3.2,>=2.11.1 in c:\\users\\abhis\\appdata\\roaming\\python\\python312\\site-packages (from ydata-profiling) (3.1.4)\n",
      "Collecting visions<0.8.2,>=0.7.5 (from visions[type_image_path]<0.8.2,>=0.7.5->ydata-profiling)\n",
      "  Downloading visions-0.8.1-py3-none-any.whl.metadata (11 kB)\n",
      "Requirement already satisfied: numpy<2.2,>=1.16.0 in c:\\users\\abhis\\appdata\\roaming\\python\\python312\\site-packages (from ydata-profiling) (1.26.4)\n",
      "Requirement already satisfied: htmlmin==0.1.12 in c:\\users\\abhis\\anaconda3\\lib\\site-packages (from ydata-profiling) (0.1.12)\n",
      "Requirement already satisfied: phik<0.13,>=0.11.1 in c:\\users\\abhis\\anaconda3\\lib\\site-packages (from ydata-profiling) (0.12.4)\n",
      "Requirement already satisfied: requests<3,>=2.24.0 in c:\\users\\abhis\\appdata\\roaming\\python\\python312\\site-packages (from ydata-profiling) (2.31.0)\n",
      "Requirement already satisfied: tqdm<5,>=4.48.2 in c:\\users\\abhis\\appdata\\roaming\\python\\python312\\site-packages (from ydata-profiling) (4.67.1)\n",
      "Requirement already satisfied: seaborn<0.14,>=0.10.1 in c:\\users\\abhis\\anaconda3\\lib\\site-packages (from ydata-profiling) (0.13.2)\n",
      "Collecting multimethod<2,>=1.4 (from ydata-profiling)\n",
      "  Downloading multimethod-1.12-py3-none-any.whl.metadata (9.6 kB)\n",
      "Requirement already satisfied: statsmodels<1,>=0.13.2 in c:\\users\\abhis\\anaconda3\\lib\\site-packages (from ydata-profiling) (0.14.2)\n",
      "Collecting typeguard<5,>=3 (from ydata-profiling)\n",
      "  Downloading typeguard-4.4.4-py3-none-any.whl.metadata (3.3 kB)\n",
      "Collecting imagehash==4.3.1 (from ydata-profiling)\n",
      "  Downloading ImageHash-4.3.1-py2.py3-none-any.whl.metadata (8.0 kB)\n",
      "Collecting wordcloud>=1.9.3 (from ydata-profiling)\n",
      "  Downloading wordcloud-1.9.4-cp312-cp312-win_amd64.whl.metadata (3.5 kB)\n",
      "Collecting dacite>=1.8 (from ydata-profiling)\n",
      "  Downloading dacite-1.9.2-py3-none-any.whl.metadata (17 kB)\n",
      "Requirement already satisfied: numba<=0.61,>=0.56.0 in c:\\users\\abhis\\anaconda3\\lib\\site-packages (from ydata-profiling) (0.60.0)\n",
      "Requirement already satisfied: PyWavelets in c:\\users\\abhis\\anaconda3\\lib\\site-packages (from imagehash==4.3.1->ydata-profiling) (1.7.0)\n",
      "Requirement already satisfied: pillow in c:\\users\\abhis\\appdata\\roaming\\python\\python312\\site-packages (from imagehash==4.3.1->ydata-profiling) (11.0.0)\n",
      "Requirement already satisfied: MarkupSafe>=2.0 in c:\\users\\abhis\\anaconda3\\lib\\site-packages (from jinja2<3.2,>=2.11.1->ydata-profiling) (2.1.3)\n",
      "Requirement already satisfied: contourpy>=1.0.1 in c:\\users\\abhis\\appdata\\roaming\\python\\python312\\site-packages (from matplotlib<=3.10,>=3.5->ydata-profiling) (1.3.0)\n",
      "Requirement already satisfied: cycler>=0.10 in c:\\users\\abhis\\appdata\\roaming\\python\\python312\\site-packages (from matplotlib<=3.10,>=3.5->ydata-profiling) (0.12.1)\n",
      "Requirement already satisfied: fonttools>=4.22.0 in c:\\users\\abhis\\appdata\\roaming\\python\\python312\\site-packages (from matplotlib<=3.10,>=3.5->ydata-profiling) (4.54.1)\n",
      "Requirement already satisfied: kiwisolver>=1.3.1 in c:\\users\\abhis\\appdata\\roaming\\python\\python312\\site-packages (from matplotlib<=3.10,>=3.5->ydata-profiling) (1.4.7)\n",
      "Requirement already satisfied: packaging>=20.0 in c:\\users\\abhis\\appdata\\roaming\\python\\python312\\site-packages (from matplotlib<=3.10,>=3.5->ydata-profiling) (24.1)\n",
      "Requirement already satisfied: pyparsing>=2.3.1 in c:\\users\\abhis\\appdata\\roaming\\python\\python312\\site-packages (from matplotlib<=3.10,>=3.5->ydata-profiling) (3.2.0)\n",
      "Requirement already satisfied: python-dateutil>=2.7 in c:\\users\\abhis\\appdata\\roaming\\python\\python312\\site-packages (from matplotlib<=3.10,>=3.5->ydata-profiling) (2.9.0.post0)\n",
      "Requirement already satisfied: llvmlite<0.44,>=0.43.0dev0 in c:\\users\\abhis\\anaconda3\\lib\\site-packages (from numba<=0.61,>=0.56.0->ydata-profiling) (0.43.0)\n",
      "Requirement already satisfied: pytz>=2020.1 in c:\\users\\abhis\\appdata\\roaming\\python\\python312\\site-packages (from pandas!=1.4.0,<3.0,>1.1->ydata-profiling) (2024.2)\n",
      "Requirement already satisfied: tzdata>=2022.7 in c:\\users\\abhis\\appdata\\roaming\\python\\python312\\site-packages (from pandas!=1.4.0,<3.0,>1.1->ydata-profiling) (2024.2)\n",
      "Requirement already satisfied: joblib>=0.14.1 in c:\\users\\abhis\\anaconda3\\lib\\site-packages (from phik<0.13,>=0.11.1->ydata-profiling) (1.1.1)\n",
      "Requirement already satisfied: charset-normalizer<4,>=2 in c:\\users\\abhis\\appdata\\roaming\\python\\python312\\site-packages (from requests<3,>=2.24.0->ydata-profiling) (3.3.2)\n",
      "Requirement already satisfied: idna<4,>=2.5 in c:\\users\\abhis\\appdata\\roaming\\python\\python312\\site-packages (from requests<3,>=2.24.0->ydata-profiling) (3.7)\n",
      "Requirement already satisfied: urllib3<3,>=1.21.1 in c:\\users\\abhis\\appdata\\roaming\\python\\python312\\site-packages (from requests<3,>=2.24.0->ydata-profiling) (2.2.1)\n",
      "Requirement already satisfied: certifi>=2017.4.17 in c:\\users\\abhis\\appdata\\roaming\\python\\python312\\site-packages (from requests<3,>=2.24.0->ydata-profiling) (2024.2.2)\n",
      "Requirement already satisfied: patsy>=0.5.6 in c:\\users\\abhis\\anaconda3\\lib\\site-packages (from statsmodels<1,>=0.13.2->ydata-profiling) (0.5.6)\n",
      "Requirement already satisfied: colorama in c:\\users\\abhis\\appdata\\roaming\\python\\python312\\site-packages (from tqdm<5,>=4.48.2->ydata-profiling) (0.4.6)\n",
      "Collecting typing_extensions>=4.14.0 (from typeguard<5,>=3->ydata-profiling)\n",
      "  Downloading typing_extensions-4.14.0-py3-none-any.whl.metadata (3.0 kB)\n",
      "Requirement already satisfied: attrs>=19.3.0 in c:\\users\\abhis\\appdata\\roaming\\python\\python312\\site-packages (from visions<0.8.2,>=0.7.5->visions[type_image_path]<0.8.2,>=0.7.5->ydata-profiling) (24.2.0)\n",
      "Requirement already satisfied: networkx>=2.4 in c:\\users\\abhis\\anaconda3\\lib\\site-packages (from visions<0.8.2,>=0.7.5->visions[type_image_path]<0.8.2,>=0.7.5->ydata-profiling) (3.3)\n",
      "Collecting puremagic (from visions<0.8.2,>=0.7.5->visions[type_image_path]<0.8.2,>=0.7.5->ydata-profiling)\n",
      "  Downloading puremagic-1.29-py3-none-any.whl.metadata (5.8 kB)\n",
      "Requirement already satisfied: six in c:\\users\\abhis\\appdata\\roaming\\python\\python312\\site-packages (from patsy>=0.5.6->statsmodels<1,>=0.13.2->ydata-profiling) (1.16.0)\n",
      "Requirement already satisfied: annotated-types>=0.6.0 in c:\\users\\abhis\\appdata\\roaming\\python\\python312\\site-packages (from pydantic>=2->ydata-profiling) (0.7.0)\n",
      "Requirement already satisfied: pydantic-core==2.27.1 in c:\\users\\abhis\\appdata\\roaming\\python\\python312\\site-packages (from pydantic>=2->ydata-profiling) (2.27.1)\n",
      "Downloading ydata_profiling-4.16.1-py2.py3-none-any.whl (400 kB)\n",
      "Downloading ImageHash-4.3.1-py2.py3-none-any.whl (296 kB)\n",
      "Downloading multimethod-1.12-py3-none-any.whl (10 kB)\n",
      "Downloading typeguard-4.4.4-py3-none-any.whl (34 kB)\n",
      "Downloading visions-0.8.1-py3-none-any.whl (105 kB)\n",
      "Downloading dacite-1.9.2-py3-none-any.whl (16 kB)\n",
      "Downloading typing_extensions-4.14.0-py3-none-any.whl (43 kB)\n",
      "Downloading wordcloud-1.9.4-cp312-cp312-win_amd64.whl (301 kB)\n",
      "Downloading puremagic-1.29-py3-none-any.whl (43 kB)\n",
      "Installing collected packages: puremagic, typing_extensions, multimethod, dacite, typeguard, imagehash, wordcloud, visions, ydata-profiling\n",
      "\n",
      "  Attempting uninstall: typing_extensions\n",
      "\n",
      "    Found existing installation: typing_extensions 4.12.2\n",
      "\n",
      "    Uninstalling typing_extensions-4.12.2:\n",
      "\n",
      "   ---- ----------------------------------- 1/9 [typing_extensions]\n",
      "   ---- ----------------------------------- 1/9 [typing_extensions]\n",
      "   ---- ----------------------------------- 1/9 [typing_extensions]\n",
      "   ---- ----------------------------------- 1/9 [typing_extensions]\n",
      "   ---- ----------------------------------- 1/9 [typing_extensions]\n",
      "   ---- ----------------------------------- 1/9 [typing_extensions]\n",
      "   ---- ----------------------------------- 1/9 [typing_extensions]\n",
      "   ---- ----------------------------------- 1/9 [typing_extensions]\n",
      "   ---- ----------------------------------- 1/9 [typing_extensions]\n",
      "   ---- ----------------------------------- 1/9 [typing_extensions]\n",
      "   ---- ----------------------------------- 1/9 [typing_extensions]\n",
      "   ---- ----------------------------------- 1/9 [typing_extensions]\n",
      "   ---- ----------------------------------- 1/9 [typing_extensions]\n",
      "   ---- ----------------------------------- 1/9 [typing_extensions]\n",
      "   ---- ----------------------------------- 1/9 [typing_extensions]\n",
      "   ---- ----------------------------------- 1/9 [typing_extensions]\n",
      "   ---- ----------------------------------- 1/9 [typing_extensions]\n",
      "   ---- ----------------------------------- 1/9 [typing_extensions]\n",
      "   ---- ----------------------------------- 1/9 [typing_extensions]\n",
      "   ---- ----------------------------------- 1/9 [typing_extensions]\n",
      "   ---- ----------------------------------- 1/9 [typing_extensions]\n",
      "   ---- ----------------------------------- 1/9 [typing_extensions]\n",
      "   ---- ----------------------------------- 1/9 [typing_extensions]\n",
      "   ---- ----------------------------------- 1/9 [typing_extensions]\n",
      "   ---- ----------------------------------- 1/9 [typing_extensions]\n",
      "   ---- ----------------------------------- 1/9 [typing_extensions]\n",
      "   ---- ----------------------------------- 1/9 [typing_extensions]\n",
      "   ---- ----------------------------------- 1/9 [typing_extensions]\n",
      "   ---- ----------------------------------- 1/9 [typing_extensions]\n",
      "   ---- ----------------------------------- 1/9 [typing_extensions]\n",
      "   ---- ----------------------------------- 1/9 [typing_extensions]\n",
      "   ---- ----------------------------------- 1/9 [typing_extensions]\n",
      "   ---- ----------------------------------- 1/9 [typing_extensions]\n",
      "   ---- ----------------------------------- 1/9 [typing_extensions]\n",
      "   ---- ----------------------------------- 1/9 [typing_extensions]\n",
      "   ---- ----------------------------------- 1/9 [typing_extensions]\n",
      "   ---- ----------------------------------- 1/9 [typing_extensions]\n",
      "   ---- ----------------------------------- 1/9 [typing_extensions]\n",
      "   ---- ----------------------------------- 1/9 [typing_extensions]\n",
      "   ---- ----------------------------------- 1/9 [typing_extensions]\n",
      "   ---- ----------------------------------- 1/9 [typing_extensions]\n",
      "   ---- ----------------------------------- 1/9 [typing_extensions]\n",
      "   ---- ----------------------------------- 1/9 [typing_extensions]\n",
      "   ---- ----------------------------------- 1/9 [typing_extensions]\n",
      "      Successfully uninstalled typing_extensions-4.12.2\n",
      "   ---- ----------------------------------- 1/9 [typing_extensions]\n",
      "   ---- ----------------------------------- 1/9 [typing_extensions]\n",
      "  Attempting uninstall: multimethod\n",
      "   ---- ----------------------------------- 1/9 [typing_extensions]\n",
      "    Found existing installation: multimethod 2.0\n",
      "   ---- ----------------------------------- 1/9 [typing_extensions]\n",
      "    Uninstalling multimethod-2.0:\n",
      "   ---- ----------------------------------- 1/9 [typing_extensions]\n",
      "      Successfully uninstalled multimethod-2.0\n",
      "   ---- ----------------------------------- 1/9 [typing_extensions]\n",
      "   -------- ------------------------------- 2/9 [multimethod]\n",
      "   ----------------- ---------------------- 4/9 [typeguard]\n",
      "  Attempting uninstall: imagehash\n",
      "   ----------------- ---------------------- 4/9 [typeguard]\n",
      "    Found existing installation: ImageHash 4.3.2\n",
      "   ----------------- ---------------------- 4/9 [typeguard]\n",
      "    Uninstalling ImageHash-4.3.2:\n",
      "   ----------------- ---------------------- 4/9 [typeguard]\n",
      "   ---------------------- ----------------- 5/9 [imagehash]\n",
      "      Successfully uninstalled ImageHash-4.3.2\n",
      "   ---------------------- ----------------- 5/9 [imagehash]\n",
      "   -------------------------- ------------- 6/9 [wordcloud]\n",
      "  Attempting uninstall: visions\n",
      "   -------------------------- ------------- 6/9 [wordcloud]\n",
      "    Found existing installation: visions 0.7.4\n",
      "   -------------------------- ------------- 6/9 [wordcloud]\n",
      "   ------------------------------- -------- 7/9 [visions]\n",
      "    Uninstalling visions-0.7.4:\n",
      "   ------------------------------- -------- 7/9 [visions]\n",
      "      Successfully uninstalled visions-0.7.4\n",
      "   ------------------------------- -------- 7/9 [visions]\n",
      "   ------------------------------- -------- 7/9 [visions]\n",
      "   ------------------------------- -------- 7/9 [visions]\n",
      "   ------------------------------- -------- 7/9 [visions]\n",
      "   ------------------------------- -------- 7/9 [visions]\n",
      "   ------------------------------- -------- 7/9 [visions]\n",
      "   ------------------------------- -------- 7/9 [visions]\n",
      "   ------------------------------- -------- 7/9 [visions]\n",
      "   ------------------------------- -------- 7/9 [visions]\n",
      "   ------------------------------- -------- 7/9 [visions]\n",
      "   ----------------------------------- ---- 8/9 [ydata-profiling]\n",
      "   ----------------------------------- ---- 8/9 [ydata-profiling]\n",
      "   ----------------------------------- ---- 8/9 [ydata-profiling]\n",
      "   ----------------------------------- ---- 8/9 [ydata-profiling]\n",
      "   ----------------------------------- ---- 8/9 [ydata-profiling]\n",
      "   ----------------------------------- ---- 8/9 [ydata-profiling]\n",
      "   ----------------------------------- ---- 8/9 [ydata-profiling]\n",
      "   ----------------------------------- ---- 8/9 [ydata-profiling]\n",
      "   ----------------------------------- ---- 8/9 [ydata-profiling]\n",
      "   ---------------------------------------- 9/9 [ydata-profiling]\n",
      "\n",
      "Successfully installed dacite-1.9.2 imagehash-4.3.1 multimethod-1.12 puremagic-1.29 typeguard-4.4.4 typing_extensions-4.11.0 visions-0.8.1 wordcloud-1.9.4 ydata-profiling-4.16.1\n",
      "Note: you may need to restart the kernel to use updated packages.\n"
     ]
    },
    {
     "name": "stderr",
     "output_type": "stream",
     "text": [
      "ERROR: pip's dependency resolver does not currently take into account all the packages that are installed. This behaviour is the source of the following dependency conflicts.\n",
      "pandas-profiling 3.2.0 requires visions[type_image_path]==0.7.4, but you have visions 0.8.1 which is incompatible.\n"
     ]
    }
   ],
   "source": [
    "pip install ydata-profiling\n"
   ]
  },
  {
   "cell_type": "code",
   "execution_count": 9,
   "id": "83d6ca1f-04a6-41d2-b8e4-f883874eff85",
   "metadata": {},
   "outputs": [
    {
     "data": {
      "text/html": [
       "\n",
       "            <div>\n",
       "                <ins><a href=\"https://ydata.ai/register\">Upgrade to ydata-sdk</a></ins>\n",
       "                <p>\n",
       "                    Improve your data and profiling with ydata-sdk, featuring data quality scoring, redundancy detection, outlier identification, text validation, and synthetic data generation.\n",
       "                </p>\n",
       "            </div>\n",
       "            "
      ],
      "text/plain": [
       "<IPython.core.display.HTML object>"
      ]
     },
     "metadata": {},
     "output_type": "display_data"
    },
    {
     "data": {
      "application/vnd.jupyter.widget-view+json": {
       "model_id": "0f3f27ee55be47eb938916b95a2e81ea",
       "version_major": 2,
       "version_minor": 0
      },
      "text/plain": [
       "Summarize dataset:   0%|          | 0/5 [00:00<?, ?it/s]"
      ]
     },
     "metadata": {},
     "output_type": "display_data"
    },
    {
     "name": "stderr",
     "output_type": "stream",
     "text": [
      "\n",
      "  0%|                                                                                           | 0/12 [00:00<?, ?it/s]\u001b[A\n",
      " 17%|█████████████▊                                                                     | 2/12 [00:00<00:01,  5.23it/s]\u001b[A\n",
      "100%|██████████████████████████████████████████████████████████████████████████████████| 12/12 [00:00<00:00, 19.87it/s]\u001b[A\n"
     ]
    },
    {
     "data": {
      "application/vnd.jupyter.widget-view+json": {
       "model_id": "fcf20db551af4ef7bf87f6c5aca5e56d",
       "version_major": 2,
       "version_minor": 0
      },
      "text/plain": [
       "Generate report structure:   0%|          | 0/1 [00:00<?, ?it/s]"
      ]
     },
     "metadata": {},
     "output_type": "display_data"
    },
    {
     "data": {
      "application/vnd.jupyter.widget-view+json": {
       "model_id": "37c431d39676463081b13bd1f2823938",
       "version_major": 2,
       "version_minor": 0
      },
      "text/plain": [
       "Render HTML:   0%|          | 0/1 [00:00<?, ?it/s]"
      ]
     },
     "metadata": {},
     "output_type": "display_data"
    },
    {
     "data": {
      "application/vnd.jupyter.widget-view+json": {
       "model_id": "b07a53912f464aa2b3886b278688590e",
       "version_major": 2,
       "version_minor": 0
      },
      "text/plain": [
       "Export report to file:   0%|          | 0/1 [00:00<?, ?it/s]"
      ]
     },
     "metadata": {},
     "output_type": "display_data"
    }
   ],
   "source": [
    "from ydata_profiling import ProfileReport\n",
    "prof = ProfileReport(df)\n",
    "prof.to_file(output_file='output.html')"
   ]
  },
  {
   "cell_type": "code",
   "execution_count": 10,
   "id": "b13282fd-6e54-4295-a1c3-bb94663bcfa0",
   "metadata": {},
   "outputs": [],
   "source": [
    "air = pd.read_csv('air_quality.csv')"
   ]
  },
  {
   "cell_type": "code",
   "execution_count": 11,
   "id": "983bffb0-ed5a-4601-8fb0-22af12477273",
   "metadata": {},
   "outputs": [
    {
     "data": {
      "application/vnd.jupyter.widget-view+json": {
       "model_id": "a2dc34e8bd944bab99cac76a205fc170",
       "version_major": 2,
       "version_minor": 0
      },
      "text/plain": [
       "Summarize dataset:   0%|          | 0/5 [00:00<?, ?it/s]"
      ]
     },
     "metadata": {},
     "output_type": "display_data"
    },
    {
     "name": "stderr",
     "output_type": "stream",
     "text": [
      "\n",
      "  0%|                                                                                           | 0/12 [00:00<?, ?it/s]\u001b[A\n",
      "100%|██████████████████████████████████████████████████████████████████████████████████| 12/12 [00:00<00:00, 21.02it/s]\u001b[A\n"
     ]
    },
    {
     "data": {
      "application/vnd.jupyter.widget-view+json": {
       "model_id": "93826d07cf4648afa569b609149c5235",
       "version_major": 2,
       "version_minor": 0
      },
      "text/plain": [
       "Generate report structure:   0%|          | 0/1 [00:00<?, ?it/s]"
      ]
     },
     "metadata": {},
     "output_type": "display_data"
    },
    {
     "data": {
      "application/vnd.jupyter.widget-view+json": {
       "model_id": "fe63a4e209944ff8849de135518be6ef",
       "version_major": 2,
       "version_minor": 0
      },
      "text/plain": [
       "Render HTML:   0%|          | 0/1 [00:00<?, ?it/s]"
      ]
     },
     "metadata": {},
     "output_type": "display_data"
    },
    {
     "data": {
      "application/vnd.jupyter.widget-view+json": {
       "model_id": "556b11b51c6a4b0486d79b4fcf1813aa",
       "version_major": 2,
       "version_minor": 0
      },
      "text/plain": [
       "Export report to file:   0%|          | 0/1 [00:00<?, ?it/s]"
      ]
     },
     "metadata": {},
     "output_type": "display_data"
    }
   ],
   "source": [
    "prof = ProfileReport(air)\n",
    "prof.to_file(output_file='output_air.html')"
   ]
  },
  {
   "cell_type": "code",
   "execution_count": null,
   "id": "5f1910e7-e365-414c-8775-6d99307136e4",
   "metadata": {},
   "outputs": [],
   "source": []
  }
 ],
 "metadata": {
  "kernelspec": {
   "display_name": "Python 3 (ipykernel)",
   "language": "python",
   "name": "python3"
  },
  "language_info": {
   "codemirror_mode": {
    "name": "ipython",
    "version": 3
   },
   "file_extension": ".py",
   "mimetype": "text/x-python",
   "name": "python",
   "nbconvert_exporter": "python",
   "pygments_lexer": "ipython3",
   "version": "3.12.7"
  }
 },
 "nbformat": 4,
 "nbformat_minor": 5
}
